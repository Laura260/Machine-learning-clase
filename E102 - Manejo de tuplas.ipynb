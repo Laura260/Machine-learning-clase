{
 "cells": [
  {
   "cell_type": "code",
   "execution_count": null,
   "metadata": {},
   "outputs": [],
   "source": [
    "#Define una función que reciba una lista y devuelva el mínimo y máximo de la lista al mismo tiempo."
   ]
  },
  {
   "cell_type": "code",
   "execution_count": 5,
   "metadata": {},
   "outputs": [],
   "source": [
    "\n",
    "def min_max(lista):\n",
    "    \n",
    "    minimo=min(lista)\n",
    "    maximo=max(lista)    \n",
    "    \n",
    "    return minimo, maximo"
   ]
  },
  {
   "cell_type": "code",
   "execution_count": 6,
   "metadata": {},
   "outputs": [
    {
     "name": "stdout",
     "output_type": "stream",
     "text": [
      "(1, 65)\n"
     ]
    }
   ],
   "source": [
    "lista1=[11,23,39,41,50,65,1,2,9,14]\n",
    "\n",
    "print(min_max(lista1))  "
   ]
  },
  {
   "cell_type": "code",
   "execution_count": 7,
   "metadata": {},
   "outputs": [],
   "source": [
    "\n",
    "def min_max2(lista):\n",
    "    \n",
    "    len_list=len(lista)\n",
    "    \n",
    "    for i in range(len_list-1):\n",
    "        for j in range(len_list-1-i):\n",
    "            if lista[j]>lista[j+1]:\n",
    "                lista[j], lista[j+1] = lista[j+1], lista[j]\n",
    "        \n",
    "    minimo2=lista[0]   \n",
    "    maximo2=lista[-1]\n",
    "    \n",
    "    return minimo2, maximo2\n",
    "\n",
    "  "
   ]
  },
  {
   "cell_type": "code",
   "execution_count": 8,
   "metadata": {},
   "outputs": [
    {
     "name": "stdout",
     "output_type": "stream",
     "text": [
      "(1, 65)\n"
     ]
    }
   ],
   "source": [
    "lista1=[11,23,39,41,50,65,1,2,9,14]\n",
    "\n",
    "print(min_max2(lista1))  "
   ]
  }
 ],
 "metadata": {
  "kernelspec": {
   "display_name": "Python 3.10.6 64-bit",
   "language": "python",
   "name": "python3"
  },
  "language_info": {
   "codemirror_mode": {
    "name": "ipython",
    "version": 3
   },
   "file_extension": ".py",
   "mimetype": "text/x-python",
   "name": "python",
   "nbconvert_exporter": "python",
   "pygments_lexer": "ipython3",
   "version": "3.10.6"
  },
  "orig_nbformat": 4,
  "vscode": {
   "interpreter": {
    "hash": "da178caaddac376410e73ff1ca4bbc8ee8c9e885e98253f361dd433120920d04"
   }
  }
 },
 "nbformat": 4,
 "nbformat_minor": 2
}
